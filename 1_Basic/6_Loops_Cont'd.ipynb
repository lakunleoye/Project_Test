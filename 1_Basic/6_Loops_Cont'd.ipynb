{
  "cells": [
    {
      "cell_type": "code",
      "execution_count": 1,
      "metadata": {
        "id": "B0BnKh6aD9ta"
      },
      "outputs": [],
      "source": [
        "years_experience = {\n",
        "                    'luke': 3,\n",
        "                    'kelly': 6,\n",
        "                    'ken': 4,\n",
        "                    'alex': 3,\n",
        "                    'mary': 7\n",
        "                    }"
      ]
    },
    {
      "cell_type": "code",
      "execution_count": 2,
      "metadata": {
        "colab": {
          "base_uri": "https://localhost:8080/"
        },
        "id": "7zickwuCElc8",
        "outputId": "8d7b5ef3-bc96-4f4e-c161-d5ad5d49e3ac"
      },
      "outputs": [
        {
          "name": "stdout",
          "output_type": "stream",
          "text": [
            "kelly has 6 years of experience\n"
          ]
        }
      ],
      "source": [
        "years = 0\n",
        "index = 0\n",
        "\n",
        "years_list = list(years_experience.items())\n",
        "\n",
        "while years < 5:\n",
        "  key, years = years_list[index]\n",
        "  if years >= 5:\n",
        "    print(key, 'has', years, 'years of experience')\n",
        "  index += 1\n"
      ]
    },
    {
      "cell_type": "code",
      "execution_count": 2,
      "metadata": {
        "id": "SwxYwtgxGdSU"
      },
      "outputs": [],
      "source": []
    }
  ],
  "metadata": {
    "colab": {
      "provenance": [],
      "toc_visible": true
    },
    "kernelspec": {
      "display_name": "project_test",
      "language": "python",
      "name": "python3"
    },
    "language_info": {
      "codemirror_mode": {
        "name": "ipython",
        "version": 3
      },
      "file_extension": ".py",
      "mimetype": "text/x-python",
      "name": "python",
      "nbconvert_exporter": "python",
      "pygments_lexer": "ipython3",
      "version": "3.12.8"
    }
  },
  "nbformat": 4,
  "nbformat_minor": 0
}
