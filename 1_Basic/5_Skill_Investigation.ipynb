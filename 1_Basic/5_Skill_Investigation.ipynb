{
  "cells": [
    {
      "cell_type": "code",
      "execution_count": null,
      "metadata": {
        "id": "eKlhzEKp6NLE"
      },
      "outputs": [],
      "source": []
    },
    {
      "cell_type": "markdown",
      "metadata": {
        "id": "TVL97R9l6beQ"
      },
      "source": [
        "#Exercise\n",
        "Filter what jobs to apply for based on list of skills"
      ]
    },
    {
      "cell_type": "code",
      "execution_count": 1,
      "metadata": {
        "id": "azX_kR8B6lp6"
      },
      "outputs": [],
      "source": [
        "my_skills = ['Excel', 'SQL', 'Python']"
      ]
    },
    {
      "cell_type": "code",
      "execution_count": 2,
      "metadata": {
        "id": "dDODyZSKBrJM"
      },
      "outputs": [],
      "source": [
        "job_roles = [\n",
        "    {\n",
        "        \"job_role\": \"Data Scientist\",\n",
        "        \"required_skills\": [\n",
        "            \"Python\", \"Machine Learning\", \"Data Visualization\", \"Statistics\",\n",
        "            \"Data Cleaning\", \"Deep Learning\", \"SQL\", \"TensorFlow\", \"NLP\", \"Big Data\"\n",
        "        ]\n",
        "    },\n",
        "    {\n",
        "        \"job_role\": \"Data Analyst\",\n",
        "        \"required_skills\": [\n",
        "            \"Excel\", \"SQL\", \"Python\", \"Data Visualization\",\n",
        "            \"Statistics\", \"Business Intelligence\", \"Power BI\", \"Tableau\", \"Data Cleaning\"\n",
        "        ]\n",
        "    },\n",
        "    {\n",
        "        \"job_role\": \"Machine Learning Engineer\",\n",
        "        \"required_skills\": [\n",
        "            \"Python\", \"Machine Learning Algorithms\", \"Deep Learning\", \"TensorFlow\",\n",
        "            \"Keras\", \"Scikit-learn\", \"Data Preprocessing\", \"Model Deployment\", \"Cloud Computing\"\n",
        "        ]\n",
        "    },\n",
        "    {\n",
        "        \"job_role\": \"Business Intelligence Analyst\",\n",
        "        \"required_skills\": [\n",
        "            \"SQL\", \"Data Warehousing\", \"Tableau\", \"Power BI\", \"ETL\",\n",
        "            \"Data Analysis\", \"Business Strategy\", \"Data Reporting\", \"Excel\", \"Data Visualization\"\n",
        "        ]\n",
        "    },\n",
        "    {\n",
        "        \"job_role\": \"Data Engineer\",\n",
        "        \"required_skills\": [\n",
        "            \"Python\", \"SQL\", \"ETL\", \"Hadoop\", \"Spark\", \"Big Data\",\n",
        "            \"Data Warehousing\", \"Cloud Platforms (AWS, GCP, Azure)\", \"Data Pipelines\", \"Docker\"\n",
        "        ]\n",
        "    },\n",
        "    {\n",
        "        \"job_role\": \"Quantitative Analyst\",\n",
        "        \"required_skills\": [\n",
        "            \"Python\", \"R\", \"Statistics\", \"Financial Modeling\", \"Stochastic Processes\",\n",
        "            \"Machine Learning\", \"Risk Management\", \"Data Analysis\", \"Monte Carlo Simulation\"\n",
        "        ]\n",
        "    },\n",
        "    {\n",
        "        \"job_role\": \"Deep Learning Engineer\",\n",
        "        \"required_skills\": [\n",
        "            \"Python\", \"TensorFlow\", \"Keras\", \"PyTorch\", \"Neural Networks\", \"Deep Learning\",\n",
        "            \"Data Preprocessing\", \"Computer Vision\", \"NLP\", \"Model Optimization\"\n",
        "        ]\n",
        "    },\n",
        "    {\n",
        "        \"job_role\": \"Data Science Researcher\",\n",
        "        \"required_skills\": [\n",
        "            \"Python\", \"R\", \"Machine Learning\", \"Deep Learning\", \"Statistics\",\n",
        "            \"Research Methodology\", \"Data Collection\", \"NLP\", \"Mathematics\", \"Algorithm Development\"\n",
        "        ]\n",
        "    },\n",
        "    {\n",
        "        \"job_role\": \"Artificial Intelligence Engineer\",\n",
        "        \"required_skills\": [\n",
        "            \"Python\", \"Machine Learning\", \"Deep Learning\", \"NLP\", \"Computer Vision\",\n",
        "            \"AI Algorithms\", \"Reinforcement Learning\", \"TensorFlow\", \"PyTorch\", \"Robotics\"\n",
        "        ]\n",
        "    },\n",
        "    {\n",
        "        \"job_role\": \"Data Science Manager\",\n",
        "        \"required_skills\": [\n",
        "            \"Python\", \"Machine Learning\", \"Team Leadership\", \"Project Management\",\n",
        "            \"Data Strategy\", \"Business Acumen\", \"Communication Skills\", \"Data Analysis\", \"SQL\"\n",
        "        ]\n",
        "    }\n",
        "]\n"
      ]
    },
    {
      "cell_type": "markdown",
      "metadata": {
        "id": "J0NMnatjeHQH"
      },
      "source": [
        "CODING\n",
        "\n",
        "\n",
        "*   Loop through the job_roles\n",
        "*   Verify if all my_skills are inside each job_roles('skills')\n",
        "*   If True (or qualified), add to qualified list of jobs\n",
        "\n",
        "\n",
        "\n"
      ]
    },
    {
      "cell_type": "code",
      "execution_count": 3,
      "metadata": {
        "colab": {
          "base_uri": "https://localhost:8080/"
        },
        "id": "gpqTbQVtB5Ig",
        "outputId": "bdcaae8a-67e0-4200-f851-1873fea91954"
      },
      "outputs": [
        {
          "name": "stdout",
          "output_type": "stream",
          "text": [
            "{'job_role': 'Data Scientist', 'required_skills': ['Python', 'Machine Learning', 'Data Visualization', 'Statistics', 'Data Cleaning', 'Deep Learning', 'SQL', 'TensorFlow', 'NLP', 'Big Data']}\n",
            "{'job_role': 'Data Analyst', 'required_skills': ['Excel', 'SQL', 'Python', 'Data Visualization', 'Statistics', 'Business Intelligence', 'Power BI', 'Tableau', 'Data Cleaning']}\n",
            "{'job_role': 'Machine Learning Engineer', 'required_skills': ['Python', 'Machine Learning Algorithms', 'Deep Learning', 'TensorFlow', 'Keras', 'Scikit-learn', 'Data Preprocessing', 'Model Deployment', 'Cloud Computing']}\n",
            "{'job_role': 'Business Intelligence Analyst', 'required_skills': ['SQL', 'Data Warehousing', 'Tableau', 'Power BI', 'ETL', 'Data Analysis', 'Business Strategy', 'Data Reporting', 'Excel', 'Data Visualization']}\n",
            "{'job_role': 'Data Engineer', 'required_skills': ['Python', 'SQL', 'ETL', 'Hadoop', 'Spark', 'Big Data', 'Data Warehousing', 'Cloud Platforms (AWS, GCP, Azure)', 'Data Pipelines', 'Docker']}\n",
            "{'job_role': 'Quantitative Analyst', 'required_skills': ['Python', 'R', 'Statistics', 'Financial Modeling', 'Stochastic Processes', 'Machine Learning', 'Risk Management', 'Data Analysis', 'Monte Carlo Simulation']}\n",
            "{'job_role': 'Deep Learning Engineer', 'required_skills': ['Python', 'TensorFlow', 'Keras', 'PyTorch', 'Neural Networks', 'Deep Learning', 'Data Preprocessing', 'Computer Vision', 'NLP', 'Model Optimization']}\n",
            "{'job_role': 'Data Science Researcher', 'required_skills': ['Python', 'R', 'Machine Learning', 'Deep Learning', 'Statistics', 'Research Methodology', 'Data Collection', 'NLP', 'Mathematics', 'Algorithm Development']}\n",
            "{'job_role': 'Artificial Intelligence Engineer', 'required_skills': ['Python', 'Machine Learning', 'Deep Learning', 'NLP', 'Computer Vision', 'AI Algorithms', 'Reinforcement Learning', 'TensorFlow', 'PyTorch', 'Robotics']}\n",
            "{'job_role': 'Data Science Manager', 'required_skills': ['Python', 'Machine Learning', 'Team Leadership', 'Project Management', 'Data Strategy', 'Business Acumen', 'Communication Skills', 'Data Analysis', 'SQL']}\n"
          ]
        }
      ],
      "source": [
        "for job in job_roles:\n",
        "  print(job)"
      ]
    },
    {
      "cell_type": "code",
      "execution_count": 4,
      "metadata": {
        "colab": {
          "base_uri": "https://localhost:8080/"
        },
        "id": "SMvo4hf8fnWB",
        "outputId": "636b0d84-3512-4895-c7f4-346646b86c56"
      },
      "outputs": [
        {
          "name": "stdout",
          "output_type": "stream",
          "text": [
            "['Python', 'Machine Learning', 'Data Visualization', 'Statistics', 'Data Cleaning', 'Deep Learning', 'SQL', 'TensorFlow', 'NLP', 'Big Data']\n",
            "['Excel', 'SQL', 'Python', 'Data Visualization', 'Statistics', 'Business Intelligence', 'Power BI', 'Tableau', 'Data Cleaning']\n",
            "['Python', 'Machine Learning Algorithms', 'Deep Learning', 'TensorFlow', 'Keras', 'Scikit-learn', 'Data Preprocessing', 'Model Deployment', 'Cloud Computing']\n",
            "['SQL', 'Data Warehousing', 'Tableau', 'Power BI', 'ETL', 'Data Analysis', 'Business Strategy', 'Data Reporting', 'Excel', 'Data Visualization']\n",
            "['Python', 'SQL', 'ETL', 'Hadoop', 'Spark', 'Big Data', 'Data Warehousing', 'Cloud Platforms (AWS, GCP, Azure)', 'Data Pipelines', 'Docker']\n",
            "['Python', 'R', 'Statistics', 'Financial Modeling', 'Stochastic Processes', 'Machine Learning', 'Risk Management', 'Data Analysis', 'Monte Carlo Simulation']\n",
            "['Python', 'TensorFlow', 'Keras', 'PyTorch', 'Neural Networks', 'Deep Learning', 'Data Preprocessing', 'Computer Vision', 'NLP', 'Model Optimization']\n",
            "['Python', 'R', 'Machine Learning', 'Deep Learning', 'Statistics', 'Research Methodology', 'Data Collection', 'NLP', 'Mathematics', 'Algorithm Development']\n",
            "['Python', 'Machine Learning', 'Deep Learning', 'NLP', 'Computer Vision', 'AI Algorithms', 'Reinforcement Learning', 'TensorFlow', 'PyTorch', 'Robotics']\n",
            "['Python', 'Machine Learning', 'Team Leadership', 'Project Management', 'Data Strategy', 'Business Acumen', 'Communication Skills', 'Data Analysis', 'SQL']\n"
          ]
        }
      ],
      "source": [
        "for job in job_roles:\n",
        "  print(job ['required_skills'])"
      ]
    },
    {
      "cell_type": "code",
      "execution_count": 5,
      "metadata": {
        "colab": {
          "base_uri": "https://localhost:8080/"
        },
        "id": "WjKG4a6MhLzi",
        "outputId": "48b680a5-efbb-4609-d020-9ebfabaae507"
      },
      "outputs": [
        {
          "name": "stdout",
          "output_type": "stream",
          "text": [
            "Excel\n",
            "['Python', 'Machine Learning', 'Data Visualization', 'Statistics', 'Data Cleaning', 'Deep Learning', 'SQL', 'TensorFlow', 'NLP', 'Big Data']\n",
            "SQL\n",
            "['Python', 'Machine Learning', 'Data Visualization', 'Statistics', 'Data Cleaning', 'Deep Learning', 'SQL', 'TensorFlow', 'NLP', 'Big Data']\n",
            "Python\n",
            "['Python', 'Machine Learning', 'Data Visualization', 'Statistics', 'Data Cleaning', 'Deep Learning', 'SQL', 'TensorFlow', 'NLP', 'Big Data']\n",
            "Excel\n",
            "['Excel', 'SQL', 'Python', 'Data Visualization', 'Statistics', 'Business Intelligence', 'Power BI', 'Tableau', 'Data Cleaning']\n",
            "SQL\n",
            "['Excel', 'SQL', 'Python', 'Data Visualization', 'Statistics', 'Business Intelligence', 'Power BI', 'Tableau', 'Data Cleaning']\n",
            "Python\n",
            "['Excel', 'SQL', 'Python', 'Data Visualization', 'Statistics', 'Business Intelligence', 'Power BI', 'Tableau', 'Data Cleaning']\n",
            "Excel\n",
            "['Python', 'Machine Learning Algorithms', 'Deep Learning', 'TensorFlow', 'Keras', 'Scikit-learn', 'Data Preprocessing', 'Model Deployment', 'Cloud Computing']\n",
            "SQL\n",
            "['Python', 'Machine Learning Algorithms', 'Deep Learning', 'TensorFlow', 'Keras', 'Scikit-learn', 'Data Preprocessing', 'Model Deployment', 'Cloud Computing']\n",
            "Python\n",
            "['Python', 'Machine Learning Algorithms', 'Deep Learning', 'TensorFlow', 'Keras', 'Scikit-learn', 'Data Preprocessing', 'Model Deployment', 'Cloud Computing']\n",
            "Excel\n",
            "['SQL', 'Data Warehousing', 'Tableau', 'Power BI', 'ETL', 'Data Analysis', 'Business Strategy', 'Data Reporting', 'Excel', 'Data Visualization']\n",
            "SQL\n",
            "['SQL', 'Data Warehousing', 'Tableau', 'Power BI', 'ETL', 'Data Analysis', 'Business Strategy', 'Data Reporting', 'Excel', 'Data Visualization']\n",
            "Python\n",
            "['SQL', 'Data Warehousing', 'Tableau', 'Power BI', 'ETL', 'Data Analysis', 'Business Strategy', 'Data Reporting', 'Excel', 'Data Visualization']\n",
            "Excel\n",
            "['Python', 'SQL', 'ETL', 'Hadoop', 'Spark', 'Big Data', 'Data Warehousing', 'Cloud Platforms (AWS, GCP, Azure)', 'Data Pipelines', 'Docker']\n",
            "SQL\n",
            "['Python', 'SQL', 'ETL', 'Hadoop', 'Spark', 'Big Data', 'Data Warehousing', 'Cloud Platforms (AWS, GCP, Azure)', 'Data Pipelines', 'Docker']\n",
            "Python\n",
            "['Python', 'SQL', 'ETL', 'Hadoop', 'Spark', 'Big Data', 'Data Warehousing', 'Cloud Platforms (AWS, GCP, Azure)', 'Data Pipelines', 'Docker']\n",
            "Excel\n",
            "['Python', 'R', 'Statistics', 'Financial Modeling', 'Stochastic Processes', 'Machine Learning', 'Risk Management', 'Data Analysis', 'Monte Carlo Simulation']\n",
            "SQL\n",
            "['Python', 'R', 'Statistics', 'Financial Modeling', 'Stochastic Processes', 'Machine Learning', 'Risk Management', 'Data Analysis', 'Monte Carlo Simulation']\n",
            "Python\n",
            "['Python', 'R', 'Statistics', 'Financial Modeling', 'Stochastic Processes', 'Machine Learning', 'Risk Management', 'Data Analysis', 'Monte Carlo Simulation']\n",
            "Excel\n",
            "['Python', 'TensorFlow', 'Keras', 'PyTorch', 'Neural Networks', 'Deep Learning', 'Data Preprocessing', 'Computer Vision', 'NLP', 'Model Optimization']\n",
            "SQL\n",
            "['Python', 'TensorFlow', 'Keras', 'PyTorch', 'Neural Networks', 'Deep Learning', 'Data Preprocessing', 'Computer Vision', 'NLP', 'Model Optimization']\n",
            "Python\n",
            "['Python', 'TensorFlow', 'Keras', 'PyTorch', 'Neural Networks', 'Deep Learning', 'Data Preprocessing', 'Computer Vision', 'NLP', 'Model Optimization']\n",
            "Excel\n",
            "['Python', 'R', 'Machine Learning', 'Deep Learning', 'Statistics', 'Research Methodology', 'Data Collection', 'NLP', 'Mathematics', 'Algorithm Development']\n",
            "SQL\n",
            "['Python', 'R', 'Machine Learning', 'Deep Learning', 'Statistics', 'Research Methodology', 'Data Collection', 'NLP', 'Mathematics', 'Algorithm Development']\n",
            "Python\n",
            "['Python', 'R', 'Machine Learning', 'Deep Learning', 'Statistics', 'Research Methodology', 'Data Collection', 'NLP', 'Mathematics', 'Algorithm Development']\n",
            "Excel\n",
            "['Python', 'Machine Learning', 'Deep Learning', 'NLP', 'Computer Vision', 'AI Algorithms', 'Reinforcement Learning', 'TensorFlow', 'PyTorch', 'Robotics']\n",
            "SQL\n",
            "['Python', 'Machine Learning', 'Deep Learning', 'NLP', 'Computer Vision', 'AI Algorithms', 'Reinforcement Learning', 'TensorFlow', 'PyTorch', 'Robotics']\n",
            "Python\n",
            "['Python', 'Machine Learning', 'Deep Learning', 'NLP', 'Computer Vision', 'AI Algorithms', 'Reinforcement Learning', 'TensorFlow', 'PyTorch', 'Robotics']\n",
            "Excel\n",
            "['Python', 'Machine Learning', 'Team Leadership', 'Project Management', 'Data Strategy', 'Business Acumen', 'Communication Skills', 'Data Analysis', 'SQL']\n",
            "SQL\n",
            "['Python', 'Machine Learning', 'Team Leadership', 'Project Management', 'Data Strategy', 'Business Acumen', 'Communication Skills', 'Data Analysis', 'SQL']\n",
            "Python\n",
            "['Python', 'Machine Learning', 'Team Leadership', 'Project Management', 'Data Strategy', 'Business Acumen', 'Communication Skills', 'Data Analysis', 'SQL']\n"
          ]
        }
      ],
      "source": [
        "for job in job_roles:\n",
        "  for skill in my_skills:\n",
        "    print(skill)\n",
        "    print(job ['required_skills'])"
      ]
    },
    {
      "cell_type": "code",
      "execution_count": 6,
      "metadata": {
        "colab": {
          "base_uri": "https://localhost:8080/"
        },
        "id": "1QmcDdr_iXw9",
        "outputId": "4800b5f1-cde7-45e4-fdce-1e0a197b61b7"
      },
      "outputs": [
        {
          "name": "stdout",
          "output_type": "stream",
          "text": [
            "SQL\n",
            "['Python', 'Machine Learning', 'Data Visualization', 'Statistics', 'Data Cleaning', 'Deep Learning', 'SQL', 'TensorFlow', 'NLP', 'Big Data']\n",
            "Python\n",
            "['Python', 'Machine Learning', 'Data Visualization', 'Statistics', 'Data Cleaning', 'Deep Learning', 'SQL', 'TensorFlow', 'NLP', 'Big Data']\n",
            "Excel\n",
            "['Excel', 'SQL', 'Python', 'Data Visualization', 'Statistics', 'Business Intelligence', 'Power BI', 'Tableau', 'Data Cleaning']\n",
            "SQL\n",
            "['Excel', 'SQL', 'Python', 'Data Visualization', 'Statistics', 'Business Intelligence', 'Power BI', 'Tableau', 'Data Cleaning']\n",
            "Python\n",
            "['Excel', 'SQL', 'Python', 'Data Visualization', 'Statistics', 'Business Intelligence', 'Power BI', 'Tableau', 'Data Cleaning']\n",
            "Python\n",
            "['Python', 'Machine Learning Algorithms', 'Deep Learning', 'TensorFlow', 'Keras', 'Scikit-learn', 'Data Preprocessing', 'Model Deployment', 'Cloud Computing']\n",
            "Excel\n",
            "['SQL', 'Data Warehousing', 'Tableau', 'Power BI', 'ETL', 'Data Analysis', 'Business Strategy', 'Data Reporting', 'Excel', 'Data Visualization']\n",
            "SQL\n",
            "['SQL', 'Data Warehousing', 'Tableau', 'Power BI', 'ETL', 'Data Analysis', 'Business Strategy', 'Data Reporting', 'Excel', 'Data Visualization']\n",
            "SQL\n",
            "['Python', 'SQL', 'ETL', 'Hadoop', 'Spark', 'Big Data', 'Data Warehousing', 'Cloud Platforms (AWS, GCP, Azure)', 'Data Pipelines', 'Docker']\n",
            "Python\n",
            "['Python', 'SQL', 'ETL', 'Hadoop', 'Spark', 'Big Data', 'Data Warehousing', 'Cloud Platforms (AWS, GCP, Azure)', 'Data Pipelines', 'Docker']\n",
            "Python\n",
            "['Python', 'R', 'Statistics', 'Financial Modeling', 'Stochastic Processes', 'Machine Learning', 'Risk Management', 'Data Analysis', 'Monte Carlo Simulation']\n",
            "Python\n",
            "['Python', 'TensorFlow', 'Keras', 'PyTorch', 'Neural Networks', 'Deep Learning', 'Data Preprocessing', 'Computer Vision', 'NLP', 'Model Optimization']\n",
            "Python\n",
            "['Python', 'R', 'Machine Learning', 'Deep Learning', 'Statistics', 'Research Methodology', 'Data Collection', 'NLP', 'Mathematics', 'Algorithm Development']\n",
            "Python\n",
            "['Python', 'Machine Learning', 'Deep Learning', 'NLP', 'Computer Vision', 'AI Algorithms', 'Reinforcement Learning', 'TensorFlow', 'PyTorch', 'Robotics']\n",
            "SQL\n",
            "['Python', 'Machine Learning', 'Team Leadership', 'Project Management', 'Data Strategy', 'Business Acumen', 'Communication Skills', 'Data Analysis', 'SQL']\n",
            "Python\n",
            "['Python', 'Machine Learning', 'Team Leadership', 'Project Management', 'Data Strategy', 'Business Acumen', 'Communication Skills', 'Data Analysis', 'SQL']\n"
          ]
        }
      ],
      "source": [
        "for job in job_roles:\n",
        "  for skill in my_skills:\n",
        "    if skill in (job['required_skills']):\n",
        "     print(skill)\n",
        "     print(job ['required_skills'])"
      ]
    },
    {
      "cell_type": "code",
      "execution_count": 7,
      "metadata": {
        "colab": {
          "base_uri": "https://localhost:8080/"
        },
        "id": "mPdLMnlblwZz",
        "outputId": "c930e30f-2218-4e5e-df74-5cf935ff5f01"
      },
      "outputs": [
        {
          "name": "stdout",
          "output_type": "stream",
          "text": [
            "False\n",
            "Excel\n",
            "['Python', 'Machine Learning', 'Data Visualization', 'Statistics', 'Data Cleaning', 'Deep Learning', 'SQL', 'TensorFlow', 'NLP', 'Big Data']\n",
            "False\n",
            "Excel\n",
            "['Python', 'Machine Learning Algorithms', 'Deep Learning', 'TensorFlow', 'Keras', 'Scikit-learn', 'Data Preprocessing', 'Model Deployment', 'Cloud Computing']\n",
            "False\n",
            "SQL\n",
            "['Python', 'Machine Learning Algorithms', 'Deep Learning', 'TensorFlow', 'Keras', 'Scikit-learn', 'Data Preprocessing', 'Model Deployment', 'Cloud Computing']\n",
            "False\n",
            "Python\n",
            "['SQL', 'Data Warehousing', 'Tableau', 'Power BI', 'ETL', 'Data Analysis', 'Business Strategy', 'Data Reporting', 'Excel', 'Data Visualization']\n",
            "False\n",
            "Excel\n",
            "['Python', 'SQL', 'ETL', 'Hadoop', 'Spark', 'Big Data', 'Data Warehousing', 'Cloud Platforms (AWS, GCP, Azure)', 'Data Pipelines', 'Docker']\n",
            "False\n",
            "Excel\n",
            "['Python', 'R', 'Statistics', 'Financial Modeling', 'Stochastic Processes', 'Machine Learning', 'Risk Management', 'Data Analysis', 'Monte Carlo Simulation']\n",
            "False\n",
            "SQL\n",
            "['Python', 'R', 'Statistics', 'Financial Modeling', 'Stochastic Processes', 'Machine Learning', 'Risk Management', 'Data Analysis', 'Monte Carlo Simulation']\n",
            "False\n",
            "Excel\n",
            "['Python', 'TensorFlow', 'Keras', 'PyTorch', 'Neural Networks', 'Deep Learning', 'Data Preprocessing', 'Computer Vision', 'NLP', 'Model Optimization']\n",
            "False\n",
            "SQL\n",
            "['Python', 'TensorFlow', 'Keras', 'PyTorch', 'Neural Networks', 'Deep Learning', 'Data Preprocessing', 'Computer Vision', 'NLP', 'Model Optimization']\n",
            "False\n",
            "Excel\n",
            "['Python', 'R', 'Machine Learning', 'Deep Learning', 'Statistics', 'Research Methodology', 'Data Collection', 'NLP', 'Mathematics', 'Algorithm Development']\n",
            "False\n",
            "SQL\n",
            "['Python', 'R', 'Machine Learning', 'Deep Learning', 'Statistics', 'Research Methodology', 'Data Collection', 'NLP', 'Mathematics', 'Algorithm Development']\n",
            "False\n",
            "Excel\n",
            "['Python', 'Machine Learning', 'Deep Learning', 'NLP', 'Computer Vision', 'AI Algorithms', 'Reinforcement Learning', 'TensorFlow', 'PyTorch', 'Robotics']\n",
            "False\n",
            "SQL\n",
            "['Python', 'Machine Learning', 'Deep Learning', 'NLP', 'Computer Vision', 'AI Algorithms', 'Reinforcement Learning', 'TensorFlow', 'PyTorch', 'Robotics']\n",
            "False\n",
            "Excel\n",
            "['Python', 'Machine Learning', 'Team Leadership', 'Project Management', 'Data Strategy', 'Business Acumen', 'Communication Skills', 'Data Analysis', 'SQL']\n"
          ]
        }
      ],
      "source": [
        "for job in job_roles:\n",
        "  qualified = True\n",
        "\n",
        "  for skill in my_skills:\n",
        "    if skill not in (job['required_skills']):\n",
        "      qualified = False\n",
        "      print(qualified)\n",
        "      print(skill)\n",
        "      print(job ['required_skills'])"
      ]
    },
    {
      "cell_type": "code",
      "execution_count": 8,
      "metadata": {
        "colab": {
          "base_uri": "https://localhost:8080/"
        },
        "id": "Go0FnV3znkZF",
        "outputId": "191661d8-e9c7-4824-eb98-2ca990b2208e"
      },
      "outputs": [
        {
          "name": "stdout",
          "output_type": "stream",
          "text": [
            "False\n",
            "Excel\n",
            "['Python', 'Machine Learning', 'Data Visualization', 'Statistics', 'Data Cleaning', 'Deep Learning', 'SQL', 'TensorFlow', 'NLP', 'Big Data']\n",
            "False\n",
            "Excel\n",
            "['Python', 'Machine Learning Algorithms', 'Deep Learning', 'TensorFlow', 'Keras', 'Scikit-learn', 'Data Preprocessing', 'Model Deployment', 'Cloud Computing']\n",
            "False\n",
            "Python\n",
            "['SQL', 'Data Warehousing', 'Tableau', 'Power BI', 'ETL', 'Data Analysis', 'Business Strategy', 'Data Reporting', 'Excel', 'Data Visualization']\n",
            "False\n",
            "Excel\n",
            "['Python', 'SQL', 'ETL', 'Hadoop', 'Spark', 'Big Data', 'Data Warehousing', 'Cloud Platforms (AWS, GCP, Azure)', 'Data Pipelines', 'Docker']\n",
            "False\n",
            "Excel\n",
            "['Python', 'R', 'Statistics', 'Financial Modeling', 'Stochastic Processes', 'Machine Learning', 'Risk Management', 'Data Analysis', 'Monte Carlo Simulation']\n",
            "False\n",
            "Excel\n",
            "['Python', 'TensorFlow', 'Keras', 'PyTorch', 'Neural Networks', 'Deep Learning', 'Data Preprocessing', 'Computer Vision', 'NLP', 'Model Optimization']\n",
            "False\n",
            "Excel\n",
            "['Python', 'R', 'Machine Learning', 'Deep Learning', 'Statistics', 'Research Methodology', 'Data Collection', 'NLP', 'Mathematics', 'Algorithm Development']\n",
            "False\n",
            "Excel\n",
            "['Python', 'Machine Learning', 'Deep Learning', 'NLP', 'Computer Vision', 'AI Algorithms', 'Reinforcement Learning', 'TensorFlow', 'PyTorch', 'Robotics']\n",
            "False\n",
            "Excel\n",
            "['Python', 'Machine Learning', 'Team Leadership', 'Project Management', 'Data Strategy', 'Business Acumen', 'Communication Skills', 'Data Analysis', 'SQL']\n"
          ]
        }
      ],
      "source": [
        "for job in job_roles:\n",
        "  qualified = True\n",
        "\n",
        "  for skill in my_skills:\n",
        "    if skill not in (job['required_skills']):\n",
        "      qualified = False\n",
        "      print(qualified)\n",
        "      print(skill)\n",
        "      print(job ['required_skills'])\n",
        "      break"
      ]
    },
    {
      "cell_type": "code",
      "execution_count": 9,
      "metadata": {
        "colab": {
          "base_uri": "https://localhost:8080/"
        },
        "id": "3gUzX5W9oJbd",
        "outputId": "85dbca06-1475-4267-9caa-c72354f09ff8"
      },
      "outputs": [
        {
          "name": "stdout",
          "output_type": "stream",
          "text": [
            "{'job_role': 'Data Analyst', 'required_skills': ['Excel', 'SQL', 'Python', 'Data Visualization', 'Statistics', 'Business Intelligence', 'Power BI', 'Tableau', 'Data Cleaning']}\n"
          ]
        }
      ],
      "source": [
        "for job in job_roles:\n",
        "  qualified = True\n",
        "\n",
        "  for skill in my_skills:\n",
        "    if skill not in (job['required_skills']):\n",
        "      qualified = False\n",
        "      break\n",
        "  if qualified:\n",
        "    print(job)"
      ]
    },
    {
      "cell_type": "code",
      "execution_count": 10,
      "metadata": {
        "colab": {
          "base_uri": "https://localhost:8080/"
        },
        "id": "RNcO100toi06",
        "outputId": "d41261c0-e686-4532-fa1a-9bc5e010c70d"
      },
      "outputs": [
        {
          "data": {
            "text/plain": [
              "['Data Analyst']"
            ]
          },
          "execution_count": 10,
          "metadata": {},
          "output_type": "execute_result"
        }
      ],
      "source": [
        "qualified_roles = []\n",
        "\n",
        "for job in job_roles:\n",
        "  qualified = True\n",
        "\n",
        "  for skill in my_skills:\n",
        "    if skill not in (job['required_skills']):\n",
        "      qualified = False\n",
        "      break\n",
        "  if qualified:\n",
        "    qualified_roles.append(job['job_role'])\n",
        "\n",
        "qualified_roles"
      ]
    },
    {
      "cell_type": "code",
      "execution_count": 11,
      "metadata": {
        "colab": {
          "base_uri": "https://localhost:8080/"
        },
        "id": "oYygKBtIqv9_",
        "outputId": "5ad40764-470e-4a6f-cfbb-b5c973191076"
      },
      "outputs": [
        {
          "data": {
            "text/plain": [
              "['Data Analyst']"
            ]
          },
          "execution_count": 11,
          "metadata": {},
          "output_type": "execute_result"
        }
      ],
      "source": [
        "#determine which job you are qualified for\n",
        "qualified_roles = []\n",
        "\n",
        "for job in job_roles:\n",
        "  # check if all required skills are in my_skills\n",
        "  if all(skill in job['required_skills'] for skill in my_skills):\n",
        "    #add the job role to qualified_roles list\n",
        "    qualified_roles.append(job['job_role'])\n",
        "\n",
        "qualified_roles"
      ]
    },
    {
      "cell_type": "code",
      "execution_count": 12,
      "metadata": {
        "colab": {
          "base_uri": "https://localhost:8080/"
        },
        "id": "EIIzmcojuGMF",
        "outputId": "4615fb7c-0918-4588-99e8-336e2d57c45f"
      },
      "outputs": [
        {
          "data": {
            "text/plain": [
              "['Data Analyst']"
            ]
          },
          "execution_count": 12,
          "metadata": {},
          "output_type": "execute_result"
        }
      ],
      "source": [
        "qualified_roles = []\n",
        "\n",
        "for job in job_roles:\n",
        "  if all(skill in job['required_skills'] for skill in my_skills):\n",
        "    qualified_roles.append(job['job_role'])\n",
        "\n",
        "qualified_roles"
      ]
    }
  ],
  "metadata": {
    "colab": {
      "provenance": []
    },
    "kernelspec": {
      "display_name": "project_test",
      "language": "python",
      "name": "python3"
    },
    "language_info": {
      "codemirror_mode": {
        "name": "ipython",
        "version": 3
      },
      "file_extension": ".py",
      "mimetype": "text/x-python",
      "name": "python",
      "nbconvert_exporter": "python",
      "pygments_lexer": "ipython3",
      "version": "3.12.8"
    }
  },
  "nbformat": 4,
  "nbformat_minor": 0
}
