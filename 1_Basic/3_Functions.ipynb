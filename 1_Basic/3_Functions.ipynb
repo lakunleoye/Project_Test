{
  "nbformat": 4,
  "nbformat_minor": 0,
  "metadata": {
    "colab": {
      "provenance": []
    },
    "kernelspec": {
      "name": "python3",
      "display_name": "Python 3"
    },
    "language_info": {
      "name": "python"
    }
  },
  "cells": [
    {
      "cell_type": "code",
      "execution_count": null,
      "metadata": {
        "id": "5UWCxF0uG7iE"
      },
      "outputs": [],
      "source": []
    },
    {
      "cell_type": "markdown",
      "source": [
        "#Types of Functions\n",
        "\n",
        "Built-in functions, print()\n",
        "User-defined functions, def my_function(): pass\n",
        "Lambda functions, lambda x: x + 1, Lambda\n",
        "Standard Library functions, math.sqrt(), Modules\n",
        "Third-Party Library functions, numpy.array(), Library"
      ],
      "metadata": {
        "id": "gJDq8CtTG_2K"
      }
    },
    {
      "cell_type": "markdown",
      "source": [
        "#Built-in Functions"
      ],
      "metadata": {
        "id": "zPpLc2QMIP_L"
      }
    },
    {
      "cell_type": "code",
      "source": [
        "skill_list = ['Python', 'SQL', 'Excel']\n",
        "print (skill_list)"
      ],
      "metadata": {
        "colab": {
          "base_uri": "https://localhost:8080/"
        },
        "id": "LyXJq0NwIDtw",
        "outputId": "1eaa4cff-c5cd-432f-f9b9-572a2c7b39c6"
      },
      "execution_count": 1,
      "outputs": [
        {
          "output_type": "stream",
          "name": "stdout",
          "text": [
            "['Python', 'SQL', 'Excel']\n"
          ]
        }
      ]
    },
    {
      "cell_type": "code",
      "source": [
        "type(skill_list)"
      ],
      "metadata": {
        "colab": {
          "base_uri": "https://localhost:8080/"
        },
        "id": "ZOGMJHemIk-w",
        "outputId": "3c00c8ca-cd37-4a67-c9e3-572272075dd7"
      },
      "execution_count": 2,
      "outputs": [
        {
          "output_type": "execute_result",
          "data": {
            "text/plain": [
              "list"
            ]
          },
          "metadata": {},
          "execution_count": 2
        }
      ]
    },
    {
      "cell_type": "code",
      "source": [
        "len(skill_list)"
      ],
      "metadata": {
        "colab": {
          "base_uri": "https://localhost:8080/"
        },
        "id": "2v3foDImI64_",
        "outputId": "975736cb-7f16-4f7d-8d33-aa1ffe45069d"
      },
      "execution_count": 3,
      "outputs": [
        {
          "output_type": "execute_result",
          "data": {
            "text/plain": [
              "3"
            ]
          },
          "metadata": {},
          "execution_count": 3
        }
      ]
    },
    {
      "cell_type": "code",
      "source": [
        "range(5)"
      ],
      "metadata": {
        "colab": {
          "base_uri": "https://localhost:8080/"
        },
        "id": "ZX6xTY4_JA1T",
        "outputId": "f789db12-6269-4886-b267-76ef0a504049"
      },
      "execution_count": 4,
      "outputs": [
        {
          "output_type": "execute_result",
          "data": {
            "text/plain": [
              "range(0, 5)"
            ]
          },
          "metadata": {},
          "execution_count": 4
        }
      ]
    },
    {
      "cell_type": "code",
      "source": [
        "data_salaries = [45000, 55000, 60000, 65000, 75000]"
      ],
      "metadata": {
        "id": "gOfcJ7klJnbZ"
      },
      "execution_count": 5,
      "outputs": []
    },
    {
      "cell_type": "code",
      "source": [
        "min(data_salaries)"
      ],
      "metadata": {
        "colab": {
          "base_uri": "https://localhost:8080/"
        },
        "id": "p_0v3JExKG-A",
        "outputId": "5c04c958-0841-4513-9081-95c72790ad52"
      },
      "execution_count": 6,
      "outputs": [
        {
          "output_type": "execute_result",
          "data": {
            "text/plain": [
              "45000"
            ]
          },
          "metadata": {},
          "execution_count": 6
        }
      ]
    },
    {
      "cell_type": "code",
      "source": [
        "max(data_salaries)"
      ],
      "metadata": {
        "colab": {
          "base_uri": "https://localhost:8080/"
        },
        "id": "tRV-IaJ2KJqd",
        "outputId": "da32f6f8-7495-4056-8631-413f171d8c9d"
      },
      "execution_count": 7,
      "outputs": [
        {
          "output_type": "execute_result",
          "data": {
            "text/plain": [
              "75000"
            ]
          },
          "metadata": {},
          "execution_count": 7
        }
      ]
    },
    {
      "cell_type": "code",
      "source": [
        "sum(data_salaries)"
      ],
      "metadata": {
        "colab": {
          "base_uri": "https://localhost:8080/"
        },
        "id": "Ev6fMyUDKRiH",
        "outputId": "53881f07-5b2c-4048-94c1-73f8203265ec"
      },
      "execution_count": 8,
      "outputs": [
        {
          "output_type": "execute_result",
          "data": {
            "text/plain": [
              "300000"
            ]
          },
          "metadata": {},
          "execution_count": 8
        }
      ]
    },
    {
      "cell_type": "code",
      "source": [
        "sorted(data_salaries)"
      ],
      "metadata": {
        "colab": {
          "base_uri": "https://localhost:8080/"
        },
        "id": "U5R5N2UzKTWL",
        "outputId": "512d058d-a24b-4ae6-801f-3eed31688ed4"
      },
      "execution_count": 9,
      "outputs": [
        {
          "output_type": "execute_result",
          "data": {
            "text/plain": [
              "[45000, 55000, 60000, 65000, 75000]"
            ]
          },
          "metadata": {},
          "execution_count": 9
        }
      ]
    },
    {
      "cell_type": "markdown",
      "source": [
        "#User-Defined Functions"
      ],
      "metadata": {
        "id": "_ZYW43FFKhLT"
      }
    },
    {
      "cell_type": "code",
      "source": [],
      "metadata": {
        "id": "TOu0FIcRNjbY"
      },
      "execution_count": 9,
      "outputs": []
    },
    {
      "cell_type": "code",
      "source": [
        "# Calculate total_salary of base_salary * (1 + bonus_rate)\n",
        "\n",
        "def calculate_salary(base_salary, bonus_rate):\n",
        "\n",
        "  total_salary = base_salary * (1 + bonus_rate)\n",
        "\n",
        "  return total_salary"
      ],
      "metadata": {
        "id": "1EzRq0AQKoEK"
      },
      "execution_count": 10,
      "outputs": []
    },
    {
      "cell_type": "code",
      "source": [
        "base_salary = 100000\n",
        "bonus_rate = 0.1\n",
        "calculate_salary(base_salary, bonus_rate)"
      ],
      "metadata": {
        "colab": {
          "base_uri": "https://localhost:8080/"
        },
        "id": "d3tr4vOzKfDU",
        "outputId": "5ac0557a-69d0-410c-f81c-103e2459c2a5"
      },
      "execution_count": 11,
      "outputs": [
        {
          "output_type": "execute_result",
          "data": {
            "text/plain": [
              "110000.00000000001"
            ]
          },
          "metadata": {},
          "execution_count": 11
        }
      ]
    },
    {
      "cell_type": "code",
      "source": [
        "calculate_salary(90000, 0.25)"
      ],
      "metadata": {
        "colab": {
          "base_uri": "https://localhost:8080/"
        },
        "id": "4U-UFR3-MCdn",
        "outputId": "ad52316b-a9d6-4893-ea61-215567580896"
      },
      "execution_count": 12,
      "outputs": [
        {
          "output_type": "execute_result",
          "data": {
            "text/plain": [
              "112500.0"
            ]
          },
          "metadata": {},
          "execution_count": 12
        }
      ]
    },
    {
      "cell_type": "code",
      "source": [
        "# Calculate total_salary of base_salary * (1 + bonus_rate)\n",
        "\n",
        "def calculate_salary(base_salary, bonus_rate = .1):\n",
        "\n",
        "  total_salary = base_salary * (1 + bonus_rate)\n",
        "\n",
        "  return total_salary"
      ],
      "metadata": {
        "id": "-ia3bsAIOR1P"
      },
      "execution_count": 13,
      "outputs": []
    },
    {
      "cell_type": "code",
      "source": [
        "base_salary = 100000\n",
        "bonus_rate = 0.1\n",
        "calculate_salary(base_salary, bonus_rate)"
      ],
      "metadata": {
        "colab": {
          "base_uri": "https://localhost:8080/"
        },
        "id": "e91UTl-vOWlY",
        "outputId": "4ddd07d7-2044-4ba6-bc8e-97d3a7edc313"
      },
      "execution_count": 14,
      "outputs": [
        {
          "output_type": "execute_result",
          "data": {
            "text/plain": [
              "110000.00000000001"
            ]
          },
          "metadata": {},
          "execution_count": 14
        }
      ]
    },
    {
      "cell_type": "code",
      "source": [
        "base_salary = 100000\n",
        "rate_1 = 0.5\n",
        "calculate_salary(base_salary, rate_1)"
      ],
      "metadata": {
        "colab": {
          "base_uri": "https://localhost:8080/"
        },
        "id": "QiDDuy2qOg0y",
        "outputId": "173fa6fa-3b5f-462e-ba8e-0a84e38e980b"
      },
      "execution_count": 15,
      "outputs": [
        {
          "output_type": "execute_result",
          "data": {
            "text/plain": [
              "150000.0"
            ]
          },
          "metadata": {},
          "execution_count": 15
        }
      ]
    },
    {
      "cell_type": "code",
      "source": [
        "base_salary = 100000\n",
        "bonus_rate = 0.2\n",
        "calculate_salary(base_salary, bonus_rate)"
      ],
      "metadata": {
        "colab": {
          "base_uri": "https://localhost:8080/"
        },
        "id": "jz7w5RHwOrVl",
        "outputId": "a0d561a2-ecd6-43e2-b33b-1bbf5fa7546c"
      },
      "execution_count": 16,
      "outputs": [
        {
          "output_type": "execute_result",
          "data": {
            "text/plain": [
              "120000.0"
            ]
          },
          "metadata": {},
          "execution_count": 16
        }
      ]
    },
    {
      "cell_type": "markdown",
      "source": [
        "# Lambda Functions"
      ],
      "metadata": {
        "id": "zFnDPc_zO-s-"
      }
    },
    {
      "cell_type": "code",
      "source": [
        "mul_two = lambda x: x * 2"
      ],
      "metadata": {
        "id": "wc45Ri_WPypJ"
      },
      "execution_count": 17,
      "outputs": []
    },
    {
      "cell_type": "code",
      "source": [
        "mul_two(3)"
      ],
      "metadata": {
        "colab": {
          "base_uri": "https://localhost:8080/"
        },
        "id": "ylFj8q74P6Mp",
        "outputId": "a89341ab-a9f8-445a-99f2-99ab2ca45a26"
      },
      "execution_count": 18,
      "outputs": [
        {
          "output_type": "execute_result",
          "data": {
            "text/plain": [
              "6"
            ]
          },
          "metadata": {},
          "execution_count": 18
        }
      ]
    },
    {
      "cell_type": "code",
      "source": [
        "(lambda x: x * 2)(3)"
      ],
      "metadata": {
        "colab": {
          "base_uri": "https://localhost:8080/"
        },
        "id": "XbpDcJjTP9Oz",
        "outputId": "d87c7e93-e28e-42fe-bddb-10c0fa36d487"
      },
      "execution_count": 19,
      "outputs": [
        {
          "output_type": "execute_result",
          "data": {
            "text/plain": [
              "6"
            ]
          },
          "metadata": {},
          "execution_count": 19
        }
      ]
    },
    {
      "cell_type": "code",
      "source": [
        "(lambda x, y: x * 2 + y)(3, 5)"
      ],
      "metadata": {
        "colab": {
          "base_uri": "https://localhost:8080/"
        },
        "id": "OV56ZdFuQHmO",
        "outputId": "2a4bdd3f-cd98-4e95-c24c-5b5bfa8ec3b1"
      },
      "execution_count": 20,
      "outputs": [
        {
          "output_type": "execute_result",
          "data": {
            "text/plain": [
              "11"
            ]
          },
          "metadata": {},
          "execution_count": 20
        }
      ]
    },
    {
      "cell_type": "code",
      "source": [
        "salary_list = [45000, 55000, 60000, 65000, 75000]\n",
        "\n",
        "# Calculate total_salary of base_salary * (1 + bonus_rate)\n",
        "\n",
        "def calculate_salary(base_salary, bonus_rate = 0.1):\n",
        "\n",
        " total_salary = base_salary * (1 + bonus_rate)\n",
        " return total_salary\n",
        "\n",
        "total_salary_list = [salary for salary in salary_list]\n",
        "\n",
        "total_salary_list"
      ],
      "metadata": {
        "id": "8vLm8N7TQUOF",
        "colab": {
          "base_uri": "https://localhost:8080/"
        },
        "outputId": "662f0224-0df3-415a-c80e-b62f903d8bbc"
      },
      "execution_count": 21,
      "outputs": [
        {
          "output_type": "execute_result",
          "data": {
            "text/plain": [
              "[45000, 55000, 60000, 65000, 75000]"
            ]
          },
          "metadata": {},
          "execution_count": 21
        }
      ]
    },
    {
      "cell_type": "code",
      "source": [
        "total_salary_list = [calculate_salary (salary) for salary in salary_list]\n",
        "\n",
        "total_salary_list"
      ],
      "metadata": {
        "colab": {
          "base_uri": "https://localhost:8080/"
        },
        "id": "xp88Fd87Orcj",
        "outputId": "7d066794-6eea-46c7-f68e-96c40ec0e5d9"
      },
      "execution_count": 22,
      "outputs": [
        {
          "output_type": "execute_result",
          "data": {
            "text/plain": [
              "[49500.00000000001, 60500.00000000001, 66000.0, 71500.0, 82500.0]"
            ]
          },
          "metadata": {},
          "execution_count": 22
        }
      ]
    },
    {
      "cell_type": "code",
      "source": [
        "salary_list = [45000, 55000, 60000, 65000, 75000]\n",
        "\n",
        "# Calculate total_salary of base_salary * (1 + bonus_rate)\n",
        "\n",
        "def calculate_salary(base_salary, bonus_rate = 0.1):\n",
        "\n",
        " return base_salary * (1 + bonus_rate)\n",
        "\n",
        "total_salary_list = [salary for salary in salary_list]\n",
        "\n",
        "total_salary_list"
      ],
      "metadata": {
        "colab": {
          "base_uri": "https://localhost:8080/"
        },
        "id": "yZ7u2zIrO-xZ",
        "outputId": "7f1c5d9a-eb29-4602-b500-ae108fe53fab"
      },
      "execution_count": 23,
      "outputs": [
        {
          "output_type": "execute_result",
          "data": {
            "text/plain": [
              "[45000, 55000, 60000, 65000, 75000]"
            ]
          },
          "metadata": {},
          "execution_count": 23
        }
      ]
    },
    {
      "cell_type": "code",
      "source": [
        "# Calculate total_salary of base_salary * (1 + bonus_rate)\n",
        "\n",
        "def calculate_salary(base_salary, bonus_rate = 0.1):\n",
        "\n",
        " return base_salary * (1 + bonus_rate)\n",
        "\n",
        "total_salary_list = [calculate_salary (salary) for salary in salary_list]\n",
        "\n",
        "total_salary_list"
      ],
      "metadata": {
        "colab": {
          "base_uri": "https://localhost:8080/"
        },
        "id": "p5nii9W9UJ07",
        "outputId": "ac818a80-304e-4fb9-9014-eb5d249b9e72"
      },
      "execution_count": 24,
      "outputs": [
        {
          "output_type": "execute_result",
          "data": {
            "text/plain": [
              "[49500.00000000001, 60500.00000000001, 66000.0, 71500.0, 82500.0]"
            ]
          },
          "metadata": {},
          "execution_count": 24
        }
      ]
    },
    {
      "cell_type": "code",
      "source": [
        "# Calculate total_salary of base_salary * (1 + bonus_rate)\n",
        "\n",
        "#def calculate_salary(base_salary, bonus_rate = 0.1):\n",
        "\n",
        " #return base_salary * (1 + bonus_rate)\n",
        "\n",
        "total_salary_list = [(lambda x: x) (salary) for salary in salary_list]\n",
        "\n",
        "total_salary_list"
      ],
      "metadata": {
        "colab": {
          "base_uri": "https://localhost:8080/"
        },
        "id": "bAN7u9vYUz-H",
        "outputId": "d94d82c9-539e-489c-c8ff-4463f87cc642"
      },
      "execution_count": 25,
      "outputs": [
        {
          "output_type": "execute_result",
          "data": {
            "text/plain": [
              "[45000, 55000, 60000, 65000, 75000]"
            ]
          },
          "metadata": {},
          "execution_count": 25
        }
      ]
    },
    {
      "cell_type": "code",
      "source": [
        "# Calculate total_salary of base_salary * (1 + bonus_rate)\n",
        "\n",
        "#def calculate_salary(base_salary, bonus_rate = 0.1):\n",
        "\n",
        " #return base_salary * (1 + bonus_rate)\n",
        "\n",
        "total_salary_list = [(lambda x: x * 1.1) (salary) for salary in salary_list]\n",
        "\n",
        "total_salary_list"
      ],
      "metadata": {
        "colab": {
          "base_uri": "https://localhost:8080/"
        },
        "id": "uDKQ0jfaVWar",
        "outputId": "fbd81644-5672-40ea-e002-2d92da371f61"
      },
      "execution_count": 26,
      "outputs": [
        {
          "output_type": "execute_result",
          "data": {
            "text/plain": [
              "[49500.00000000001, 60500.00000000001, 66000.0, 71500.0, 82500.0]"
            ]
          },
          "metadata": {},
          "execution_count": 26
        }
      ]
    },
    {
      "cell_type": "code",
      "source": [
        "# Calculate total_salary of base_salary * (1 + bonus_rate)\n",
        "\n",
        "#def calculate_salary(base_salary, bonus_rate = 0.1):\n",
        "\n",
        " #return base_salary * (1 + bonus_rate)\n",
        "\n",
        "total_salary_list = [salary * 1.1 for salary in salary_list]\n",
        "\n",
        "total_salary_list"
      ],
      "metadata": {
        "colab": {
          "base_uri": "https://localhost:8080/"
        },
        "id": "fErDK5rjVi7U",
        "outputId": "c8b54a10-fbcd-4cf8-c4b2-b802783cda55"
      },
      "execution_count": 27,
      "outputs": [
        {
          "output_type": "execute_result",
          "data": {
            "text/plain": [
              "[49500.00000000001, 60500.00000000001, 66000.0, 71500.0, 82500.0]"
            ]
          },
          "metadata": {},
          "execution_count": 27
        }
      ]
    },
    {
      "cell_type": "markdown",
      "source": [
        "#Data Filtering Example\n",
        "Find jobs that have Python that are remote"
      ],
      "metadata": {
        "id": "HfvvAqjJVvSj"
      }
    },
    {
      "cell_type": "code",
      "source": [
        "job_data = [  {\n",
        "        \"job_title\": \"Data Scientist\",\n",
        "        \"job_skills\": [\"Python\", \"Machine Learning\", \"Data Analysis\", \"SQL\", \"TensorFlow\"],\n",
        "        \"remote\": True\n",
        "    },\n",
        "    {\n",
        "        \"job_title\": \"Machine Learning Engineer\",\n",
        "        \"job_skills\": [\"Python\", \"Machine Learning\", \"Deep Learning\", \"TensorFlow\", \"Keras\"],\n",
        "        \"remote\": False\n",
        "    },\n",
        "    {\n",
        "        \"job_title\": \"Data Analyst\",\n",
        "        \"job_skills\": [\"SQL\", \"Excel\", \"Data Visualization\", \"Tableau\", \"Python\"],\n",
        "        \"remote\": True\n",
        "    },\n",
        "    {\n",
        "        \"job_title\": \"AI Research Scientist\",\n",
        "        \"job_skills\": [\"Python\", \"Deep Learning\", \"Research\", \"Natural Language Processing\", \"PyTorch\"],\n",
        "        \"remote\": False\n",
        "    },\n",
        "    {\n",
        "        \"job_title\": \"Data Engineer\",\n",
        "        \"job_skills\": [\"SQL\", \"Python\", \"ETL\", \"Cloud Computing\", \"Apache Spark\"],\n",
        "        \"remote\": True\n",
        "    }\n",
        "]\n"
      ],
      "metadata": {
        "id": "q5g8ZYX1V2DP"
      },
      "execution_count": 28,
      "outputs": []
    },
    {
      "cell_type": "code",
      "source": [
        "job_data"
      ],
      "metadata": {
        "colab": {
          "base_uri": "https://localhost:8080/"
        },
        "id": "zytPgH3ofJkm",
        "outputId": "87b1c361-80b6-4b8d-c22c-cc0f4eaa2784"
      },
      "execution_count": 29,
      "outputs": [
        {
          "output_type": "execute_result",
          "data": {
            "text/plain": [
              "[{'job_title': 'Data Scientist',\n",
              "  'job_skills': ['Python',\n",
              "   'Machine Learning',\n",
              "   'Data Analysis',\n",
              "   'SQL',\n",
              "   'TensorFlow'],\n",
              "  'remote': True},\n",
              " {'job_title': 'Machine Learning Engineer',\n",
              "  'job_skills': ['Python',\n",
              "   'Machine Learning',\n",
              "   'Deep Learning',\n",
              "   'TensorFlow',\n",
              "   'Keras'],\n",
              "  'remote': False},\n",
              " {'job_title': 'Data Analyst',\n",
              "  'job_skills': ['SQL', 'Excel', 'Data Visualization', 'Tableau', 'Python'],\n",
              "  'remote': True},\n",
              " {'job_title': 'AI Research Scientist',\n",
              "  'job_skills': ['Python',\n",
              "   'Deep Learning',\n",
              "   'Research',\n",
              "   'Natural Language Processing',\n",
              "   'PyTorch'],\n",
              "  'remote': False},\n",
              " {'job_title': 'Data Engineer',\n",
              "  'job_skills': ['SQL', 'Python', 'ETL', 'Cloud Computing', 'Apache Spark'],\n",
              "  'remote': True}]"
            ]
          },
          "metadata": {},
          "execution_count": 29
        }
      ]
    },
    {
      "cell_type": "code",
      "source": [
        "filter(lambda job: job ['remote'], job_data)"
      ],
      "metadata": {
        "colab": {
          "base_uri": "https://localhost:8080/"
        },
        "id": "lUuyeWFNfLUE",
        "outputId": "2e4fb1f3-05c8-41b8-b6ef-3646f8f7ed4a"
      },
      "execution_count": 30,
      "outputs": [
        {
          "output_type": "execute_result",
          "data": {
            "text/plain": [
              "<filter at 0x7f551d6edff0>"
            ]
          },
          "metadata": {},
          "execution_count": 30
        }
      ]
    },
    {
      "cell_type": "code",
      "source": [
        "list (filter(lambda job: job ['remote'], job_data))"
      ],
      "metadata": {
        "colab": {
          "base_uri": "https://localhost:8080/"
        },
        "id": "tqw1QsKXgZPS",
        "outputId": "92c7c6af-2727-44fa-f64f-586679ada4ff"
      },
      "execution_count": 31,
      "outputs": [
        {
          "output_type": "execute_result",
          "data": {
            "text/plain": [
              "[{'job_title': 'Data Scientist',\n",
              "  'job_skills': ['Python',\n",
              "   'Machine Learning',\n",
              "   'Data Analysis',\n",
              "   'SQL',\n",
              "   'TensorFlow'],\n",
              "  'remote': True},\n",
              " {'job_title': 'Data Analyst',\n",
              "  'job_skills': ['SQL', 'Excel', 'Data Visualization', 'Tableau', 'Python'],\n",
              "  'remote': True},\n",
              " {'job_title': 'Data Engineer',\n",
              "  'job_skills': ['SQL', 'Python', 'ETL', 'Cloud Computing', 'Apache Spark'],\n",
              "  'remote': True}]"
            ]
          },
          "metadata": {},
          "execution_count": 31
        }
      ]
    },
    {
      "cell_type": "code",
      "source": [
        "list (filter(lambda job: job ['remote'] and 'Excel' in job ['job_skills'], job_data))"
      ],
      "metadata": {
        "colab": {
          "base_uri": "https://localhost:8080/"
        },
        "id": "viU80rnYhBHy",
        "outputId": "0a2e89c9-b4a0-45ec-fc7c-fbc8bc84496c"
      },
      "execution_count": 32,
      "outputs": [
        {
          "output_type": "execute_result",
          "data": {
            "text/plain": [
              "[{'job_title': 'Data Analyst',\n",
              "  'job_skills': ['SQL', 'Excel', 'Data Visualization', 'Tableau', 'Python'],\n",
              "  'remote': True}]"
            ]
          },
          "metadata": {},
          "execution_count": 32
        }
      ]
    },
    {
      "cell_type": "markdown",
      "source": [
        "#Modules"
      ],
      "metadata": {
        "id": "vvr57VEmitkk"
      }
    },
    {
      "cell_type": "code",
      "source": [
        "import my_module"
      ],
      "metadata": {
        "id": "X5hDQMVWj8X4",
        "colab": {
          "base_uri": "https://localhost:8080/",
          "height": 314
        },
        "outputId": "567fd88c-4379-4cce-802d-6e43ed3dbf58"
      },
      "execution_count": 33,
      "outputs": [
        {
          "output_type": "error",
          "ename": "ModuleNotFoundError",
          "evalue": "No module named 'my_module'",
          "traceback": [
            "\u001b[0;31m---------------------------------------------------------------------------\u001b[0m",
            "\u001b[0;31mModuleNotFoundError\u001b[0m                       Traceback (most recent call last)",
            "\u001b[0;32m<ipython-input-33-6f1b7cfa21b3>\u001b[0m in \u001b[0;36m<cell line: 1>\u001b[0;34m()\u001b[0m\n\u001b[0;32m----> 1\u001b[0;31m \u001b[0;32mimport\u001b[0m \u001b[0mmy_module\u001b[0m\u001b[0;34m\u001b[0m\u001b[0;34m\u001b[0m\u001b[0m\n\u001b[0m",
            "\u001b[0;31mModuleNotFoundError\u001b[0m: No module named 'my_module'",
            "",
            "\u001b[0;31m---------------------------------------------------------------------------\u001b[0;32m\nNOTE: If your import is failing due to a missing package, you can\nmanually install dependencies using either !pip or !apt.\n\nTo view examples of installing some common dependencies, click the\n\"Open Examples\" button below.\n\u001b[0;31m---------------------------------------------------------------------------\u001b[0m\n"
          ],
          "errorDetails": {
            "actions": [
              {
                "action": "open_url",
                "actionText": "Open Examples",
                "url": "/notebooks/snippets/importing_libraries.ipynb"
              }
            ]
          }
        }
      ]
    },
    {
      "cell_type": "code",
      "source": [
        "my_module.skill_list"
      ],
      "metadata": {
        "colab": {
          "base_uri": "https://localhost:8080/",
          "height": 141
        },
        "id": "3muzUaG-kOiF",
        "outputId": "4b3fb000-25a7-4fd8-eee8-4d485eec0d51"
      },
      "execution_count": 34,
      "outputs": [
        {
          "output_type": "error",
          "ename": "NameError",
          "evalue": "name 'my_module' is not defined",
          "traceback": [
            "\u001b[0;31m---------------------------------------------------------------------------\u001b[0m",
            "\u001b[0;31mNameError\u001b[0m                                 Traceback (most recent call last)",
            "\u001b[0;32m<ipython-input-34-fc78c0bcbb89>\u001b[0m in \u001b[0;36m<cell line: 1>\u001b[0;34m()\u001b[0m\n\u001b[0;32m----> 1\u001b[0;31m \u001b[0mmy_module\u001b[0m\u001b[0;34m.\u001b[0m\u001b[0mskill_list\u001b[0m\u001b[0;34m\u001b[0m\u001b[0;34m\u001b[0m\u001b[0m\n\u001b[0m",
            "\u001b[0;31mNameError\u001b[0m: name 'my_module' is not defined"
          ]
        }
      ]
    },
    {
      "cell_type": "code",
      "source": [
        "my_module.skill('Python')"
      ],
      "metadata": {
        "id": "8ISz5VpkmZ-v"
      },
      "execution_count": null,
      "outputs": []
    },
    {
      "cell_type": "code",
      "source": [
        "import job_analyser"
      ],
      "metadata": {
        "id": "VfgygGRdmvEf"
      },
      "execution_count": null,
      "outputs": []
    },
    {
      "cell_type": "code",
      "source": [
        "job_analyser.calculate_salary(100000)"
      ],
      "metadata": {
        "id": "74jjJIUdn-OD"
      },
      "execution_count": null,
      "outputs": []
    },
    {
      "cell_type": "code",
      "source": [
        "from job_analyser import calculate_salary\n",
        "calculate_salary(100000)"
      ],
      "metadata": {
        "id": "GZy9ZaYdoNko"
      },
      "execution_count": null,
      "outputs": []
    },
    {
      "cell_type": "code",
      "source": [
        "from job_analyser import calculate_salary, calculate_bonus\n",
        "\n",
        "calculate_salary(100000)\n",
        "calculate_bonus(110000, 100000)"
      ],
      "metadata": {
        "id": "2qtHKc-Kov4b"
      },
      "execution_count": null,
      "outputs": []
    },
    {
      "cell_type": "code",
      "source": [
        "from job_analyser import *\n",
        "\n",
        "calculate_salary(100000)\n",
        "calculate_bonus(110000, 100000)"
      ],
      "metadata": {
        "id": "uqi952LMvHD5"
      },
      "execution_count": null,
      "outputs": []
    },
    {
      "cell_type": "code",
      "source": [
        "help(calculate_salary)"
      ],
      "metadata": {
        "id": "MqOsDiJAv8m6"
      },
      "execution_count": null,
      "outputs": []
    },
    {
      "cell_type": "code",
      "source": [],
      "metadata": {
        "id": "NnTlo4V5wB-a"
      },
      "execution_count": null,
      "outputs": []
    }
  ]
}