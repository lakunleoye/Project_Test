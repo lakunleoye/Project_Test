{
  "cells": [
    {
      "cell_type": "code",
      "execution_count": null,
      "metadata": {
        "id": "19JFINnmf5EH"
      },
      "outputs": [],
      "source": []
    },
    {
      "cell_type": "markdown",
      "metadata": {
        "id": "t9ua2sl9fhPb"
      },
      "source": [
        "#List Comprehension\n",
        "We are not only limited to list comprehension\n",
        "\n",
        "*   set comprehension\n",
        "*   tuple comprehension\n",
        "*   dictionary comprehension"
      ]
    },
    {
      "cell_type": "code",
      "execution_count": 1,
      "metadata": {
        "id": "wpwTHx82UrkT"
      },
      "outputs": [],
      "source": [
        "numbers = [x for x in range(100)]"
      ]
    },
    {
      "cell_type": "code",
      "execution_count": 2,
      "metadata": {
        "colab": {
          "base_uri": "https://localhost:8080/"
        },
        "id": "u-C0uNAEXOXb",
        "outputId": "6fa30ee4-4cc2-455e-c8fc-9e0fbb925574"
      },
      "outputs": [
        {
          "data": {
            "text/plain": [
              "[0,\n",
              " 1,\n",
              " 2,\n",
              " 3,\n",
              " 4,\n",
              " 5,\n",
              " 6,\n",
              " 7,\n",
              " 8,\n",
              " 9,\n",
              " 10,\n",
              " 11,\n",
              " 12,\n",
              " 13,\n",
              " 14,\n",
              " 15,\n",
              " 16,\n",
              " 17,\n",
              " 18,\n",
              " 19,\n",
              " 20,\n",
              " 21,\n",
              " 22,\n",
              " 23,\n",
              " 24,\n",
              " 25,\n",
              " 26,\n",
              " 27,\n",
              " 28,\n",
              " 29,\n",
              " 30,\n",
              " 31,\n",
              " 32,\n",
              " 33,\n",
              " 34,\n",
              " 35,\n",
              " 36,\n",
              " 37,\n",
              " 38,\n",
              " 39,\n",
              " 40,\n",
              " 41,\n",
              " 42,\n",
              " 43,\n",
              " 44,\n",
              " 45,\n",
              " 46,\n",
              " 47,\n",
              " 48,\n",
              " 49,\n",
              " 50,\n",
              " 51,\n",
              " 52,\n",
              " 53,\n",
              " 54,\n",
              " 55,\n",
              " 56,\n",
              " 57,\n",
              " 58,\n",
              " 59,\n",
              " 60,\n",
              " 61,\n",
              " 62,\n",
              " 63,\n",
              " 64,\n",
              " 65,\n",
              " 66,\n",
              " 67,\n",
              " 68,\n",
              " 69,\n",
              " 70,\n",
              " 71,\n",
              " 72,\n",
              " 73,\n",
              " 74,\n",
              " 75,\n",
              " 76,\n",
              " 77,\n",
              " 78,\n",
              " 79,\n",
              " 80,\n",
              " 81,\n",
              " 82,\n",
              " 83,\n",
              " 84,\n",
              " 85,\n",
              " 86,\n",
              " 87,\n",
              " 88,\n",
              " 89,\n",
              " 90,\n",
              " 91,\n",
              " 92,\n",
              " 93,\n",
              " 94,\n",
              " 95,\n",
              " 96,\n",
              " 97,\n",
              " 98,\n",
              " 99]"
            ]
          },
          "execution_count": 2,
          "metadata": {},
          "output_type": "execute_result"
        }
      ],
      "source": [
        "numbers"
      ]
    },
    {
      "cell_type": "code",
      "execution_count": 3,
      "metadata": {
        "id": "bXr-5h3VZA_V"
      },
      "outputs": [],
      "source": [
        "numbers = []\n",
        "\n",
        "for x in range(100):\n",
        "  numbers.append(x)"
      ]
    },
    {
      "cell_type": "code",
      "execution_count": 4,
      "metadata": {
        "colab": {
          "base_uri": "https://localhost:8080/"
        },
        "id": "WJMwMMmLdU2o",
        "outputId": "d4f16382-03f1-4823-f9e6-fbc3e13fa8ab"
      },
      "outputs": [
        {
          "data": {
            "text/plain": [
              "[0,\n",
              " 1,\n",
              " 2,\n",
              " 3,\n",
              " 4,\n",
              " 5,\n",
              " 6,\n",
              " 7,\n",
              " 8,\n",
              " 9,\n",
              " 10,\n",
              " 11,\n",
              " 12,\n",
              " 13,\n",
              " 14,\n",
              " 15,\n",
              " 16,\n",
              " 17,\n",
              " 18,\n",
              " 19,\n",
              " 20,\n",
              " 21,\n",
              " 22,\n",
              " 23,\n",
              " 24,\n",
              " 25,\n",
              " 26,\n",
              " 27,\n",
              " 28,\n",
              " 29,\n",
              " 30,\n",
              " 31,\n",
              " 32,\n",
              " 33,\n",
              " 34,\n",
              " 35,\n",
              " 36,\n",
              " 37,\n",
              " 38,\n",
              " 39,\n",
              " 40,\n",
              " 41,\n",
              " 42,\n",
              " 43,\n",
              " 44,\n",
              " 45,\n",
              " 46,\n",
              " 47,\n",
              " 48,\n",
              " 49,\n",
              " 50,\n",
              " 51,\n",
              " 52,\n",
              " 53,\n",
              " 54,\n",
              " 55,\n",
              " 56,\n",
              " 57,\n",
              " 58,\n",
              " 59,\n",
              " 60,\n",
              " 61,\n",
              " 62,\n",
              " 63,\n",
              " 64,\n",
              " 65,\n",
              " 66,\n",
              " 67,\n",
              " 68,\n",
              " 69,\n",
              " 70,\n",
              " 71,\n",
              " 72,\n",
              " 73,\n",
              " 74,\n",
              " 75,\n",
              " 76,\n",
              " 77,\n",
              " 78,\n",
              " 79,\n",
              " 80,\n",
              " 81,\n",
              " 82,\n",
              " 83,\n",
              " 84,\n",
              " 85,\n",
              " 86,\n",
              " 87,\n",
              " 88,\n",
              " 89,\n",
              " 90,\n",
              " 91,\n",
              " 92,\n",
              " 93,\n",
              " 94,\n",
              " 95,\n",
              " 96,\n",
              " 97,\n",
              " 98,\n",
              " 99]"
            ]
          },
          "execution_count": 4,
          "metadata": {},
          "output_type": "execute_result"
        }
      ],
      "source": [
        "numbers"
      ]
    },
    {
      "cell_type": "code",
      "execution_count": 5,
      "metadata": {
        "id": "nMdWrdiodZNu"
      },
      "outputs": [],
      "source": [
        "numbers = [x*2 for x in range(100)]"
      ]
    },
    {
      "cell_type": "code",
      "execution_count": 6,
      "metadata": {
        "colab": {
          "base_uri": "https://localhost:8080/"
        },
        "id": "A7bA_TMjeqo-",
        "outputId": "c0d568f7-3be5-4474-8484-ce4561b567d1"
      },
      "outputs": [
        {
          "data": {
            "text/plain": [
              "[0,\n",
              " 2,\n",
              " 4,\n",
              " 6,\n",
              " 8,\n",
              " 10,\n",
              " 12,\n",
              " 14,\n",
              " 16,\n",
              " 18,\n",
              " 20,\n",
              " 22,\n",
              " 24,\n",
              " 26,\n",
              " 28,\n",
              " 30,\n",
              " 32,\n",
              " 34,\n",
              " 36,\n",
              " 38,\n",
              " 40,\n",
              " 42,\n",
              " 44,\n",
              " 46,\n",
              " 48,\n",
              " 50,\n",
              " 52,\n",
              " 54,\n",
              " 56,\n",
              " 58,\n",
              " 60,\n",
              " 62,\n",
              " 64,\n",
              " 66,\n",
              " 68,\n",
              " 70,\n",
              " 72,\n",
              " 74,\n",
              " 76,\n",
              " 78,\n",
              " 80,\n",
              " 82,\n",
              " 84,\n",
              " 86,\n",
              " 88,\n",
              " 90,\n",
              " 92,\n",
              " 94,\n",
              " 96,\n",
              " 98,\n",
              " 100,\n",
              " 102,\n",
              " 104,\n",
              " 106,\n",
              " 108,\n",
              " 110,\n",
              " 112,\n",
              " 114,\n",
              " 116,\n",
              " 118,\n",
              " 120,\n",
              " 122,\n",
              " 124,\n",
              " 126,\n",
              " 128,\n",
              " 130,\n",
              " 132,\n",
              " 134,\n",
              " 136,\n",
              " 138,\n",
              " 140,\n",
              " 142,\n",
              " 144,\n",
              " 146,\n",
              " 148,\n",
              " 150,\n",
              " 152,\n",
              " 154,\n",
              " 156,\n",
              " 158,\n",
              " 160,\n",
              " 162,\n",
              " 164,\n",
              " 166,\n",
              " 168,\n",
              " 170,\n",
              " 172,\n",
              " 174,\n",
              " 176,\n",
              " 178,\n",
              " 180,\n",
              " 182,\n",
              " 184,\n",
              " 186,\n",
              " 188,\n",
              " 190,\n",
              " 192,\n",
              " 194,\n",
              " 196,\n",
              " 198]"
            ]
          },
          "execution_count": 6,
          "metadata": {},
          "output_type": "execute_result"
        }
      ],
      "source": [
        "numbers"
      ]
    },
    {
      "cell_type": "code",
      "execution_count": 7,
      "metadata": {
        "id": "ghZkH2DSet5A"
      },
      "outputs": [],
      "source": [
        "numbers = [float(x) for x in range(100)]"
      ]
    },
    {
      "cell_type": "code",
      "execution_count": 8,
      "metadata": {
        "colab": {
          "base_uri": "https://localhost:8080/"
        },
        "id": "cHT4Hyone_GB",
        "outputId": "8559f61e-206f-40f4-a8d7-bfe255b74a34"
      },
      "outputs": [
        {
          "data": {
            "text/plain": [
              "[0.0,\n",
              " 1.0,\n",
              " 2.0,\n",
              " 3.0,\n",
              " 4.0,\n",
              " 5.0,\n",
              " 6.0,\n",
              " 7.0,\n",
              " 8.0,\n",
              " 9.0,\n",
              " 10.0,\n",
              " 11.0,\n",
              " 12.0,\n",
              " 13.0,\n",
              " 14.0,\n",
              " 15.0,\n",
              " 16.0,\n",
              " 17.0,\n",
              " 18.0,\n",
              " 19.0,\n",
              " 20.0,\n",
              " 21.0,\n",
              " 22.0,\n",
              " 23.0,\n",
              " 24.0,\n",
              " 25.0,\n",
              " 26.0,\n",
              " 27.0,\n",
              " 28.0,\n",
              " 29.0,\n",
              " 30.0,\n",
              " 31.0,\n",
              " 32.0,\n",
              " 33.0,\n",
              " 34.0,\n",
              " 35.0,\n",
              " 36.0,\n",
              " 37.0,\n",
              " 38.0,\n",
              " 39.0,\n",
              " 40.0,\n",
              " 41.0,\n",
              " 42.0,\n",
              " 43.0,\n",
              " 44.0,\n",
              " 45.0,\n",
              " 46.0,\n",
              " 47.0,\n",
              " 48.0,\n",
              " 49.0,\n",
              " 50.0,\n",
              " 51.0,\n",
              " 52.0,\n",
              " 53.0,\n",
              " 54.0,\n",
              " 55.0,\n",
              " 56.0,\n",
              " 57.0,\n",
              " 58.0,\n",
              " 59.0,\n",
              " 60.0,\n",
              " 61.0,\n",
              " 62.0,\n",
              " 63.0,\n",
              " 64.0,\n",
              " 65.0,\n",
              " 66.0,\n",
              " 67.0,\n",
              " 68.0,\n",
              " 69.0,\n",
              " 70.0,\n",
              " 71.0,\n",
              " 72.0,\n",
              " 73.0,\n",
              " 74.0,\n",
              " 75.0,\n",
              " 76.0,\n",
              " 77.0,\n",
              " 78.0,\n",
              " 79.0,\n",
              " 80.0,\n",
              " 81.0,\n",
              " 82.0,\n",
              " 83.0,\n",
              " 84.0,\n",
              " 85.0,\n",
              " 86.0,\n",
              " 87.0,\n",
              " 88.0,\n",
              " 89.0,\n",
              " 90.0,\n",
              " 91.0,\n",
              " 92.0,\n",
              " 93.0,\n",
              " 94.0,\n",
              " 95.0,\n",
              " 96.0,\n",
              " 97.0,\n",
              " 98.0,\n",
              " 99.0]"
            ]
          },
          "execution_count": 8,
          "metadata": {},
          "output_type": "execute_result"
        }
      ],
      "source": [
        "numbers"
      ]
    },
    {
      "cell_type": "code",
      "execution_count": 9,
      "metadata": {
        "id": "KUPA0Ph6fBOA"
      },
      "outputs": [],
      "source": [
        "numbers = [x for x in 'PYTHON']"
      ]
    },
    {
      "cell_type": "code",
      "execution_count": null,
      "metadata": {
        "colab": {
          "base_uri": "https://localhost:8080/"
        },
        "id": "3m7PSuNNfW6c",
        "outputId": "27ddb00f-e601-49d3-abdf-c8a2200b2700"
      },
      "outputs": [
        {
          "data": {
            "text/plain": [
              "['P', 'Y', 'T', 'H', 'O', 'N']"
            ]
          },
          "execution_count": 10,
          "metadata": {},
          "output_type": "execute_result"
        }
      ],
      "source": [
        "numbers"
      ]
    },
    {
      "cell_type": "code",
      "execution_count": 11,
      "metadata": {
        "id": "sPcSfyq2fYfl"
      },
      "outputs": [],
      "source": [
        "numbers = {x for x in 'PYTHON'}"
      ]
    },
    {
      "cell_type": "code",
      "execution_count": 12,
      "metadata": {
        "colab": {
          "base_uri": "https://localhost:8080/"
        },
        "id": "TSgoMtFVjHE0",
        "outputId": "47cfae8a-b595-4a79-e827-8bd862003d37"
      },
      "outputs": [
        {
          "data": {
            "text/plain": [
              "{'H', 'N', 'O', 'P', 'T', 'Y'}"
            ]
          },
          "execution_count": 12,
          "metadata": {},
          "output_type": "execute_result"
        }
      ],
      "source": [
        "numbers"
      ]
    },
    {
      "cell_type": "code",
      "execution_count": 13,
      "metadata": {
        "id": "0zl5PcgtjIol"
      },
      "outputs": [],
      "source": [
        "job_list = [\n",
        "    \"Data Scientist\", \"Data Analyst\", \"Machine Learning Engineer\", \"Data Engineer\", \"AI Research Scientist\",\n",
        "    \"Business Intelligence Analyst\", \"Data Architect\", \"Data Science Consultant\", \"Quantitative Analyst\", \"Big Data Engineer\",\n",
        "    \"Statistical Analyst\", \"Data Science Manager\", \"Deep Learning Engineer\", \"Data Scientist (Healthcare)\", \"Operations Research Analyst\",\n",
        "    \"Data Analyst (Marketing)\", \"Data Science Intern\", \"Applied Data Scientist\", \"Data Analytics Specialist\", \"Data Visualization Expert\",\n",
        "    \"Machine Learning Researcher\", \"Business Analyst\", \"Predictive Analytics Specialist\", \"Data Quality Analyst\", \"Data Scientist (Finance)\",\n",
        "    \"Artificial Intelligence Engineer\", \"Business Intelligence Developer\", \"Data Scientist (Retail)\", \"Data Engineer (Cloud)\", \"Machine Learning Consultant\",\n",
        "    \"Data Operations Manager\", \"Database Administrator\", \"Data Science Lead\", \"Junior Data Scientist\", \"Data Analyst (Financial Services)\",\n",
        "    \"Machine Learning Specialist\", \"Data Mining Engineer\", \"AI Solutions Architect\", \"Business Intelligence Manager\", \"Data Science Director\",\n",
        "    \"Big Data Architect\", \"Computational Scientist\", \"Data Science Trainer\", \"Data Analyst (E-commerce)\", \"Senior Data Engineer\",\n",
        "    \"Machine Learning Developer\", \"Data Science Advisor\", \"Data Research Scientist\", \"Data Scientist (Telecommunications)\", \"Cloud Data Engineer\",\n",
        "    \"Data Governance Specialist\", \"AI Product Manager\", \"NLP Scientist\", \"Data Strategy Consultant\", \"Advanced Analytics Consultant\",\n",
        "    \"Data Architect (Big Data)\", \"Data Science Project Manager\", \"Data Scientist (Energy)\", \"Data Visualization Analyst\", \"Senior Data Scientist\",\n",
        "    \"Quantitative Data Analyst\", \"Data Science Researcher\", \"Business Data Analyst\", \"AI Engineer\", \"Data Modeling Specialist\",\n",
        "    \"Data Mining Specialist\", \"Full Stack Data Engineer\", \"Data Solutions Architect\", \"Lead Data Scientist\", \"Business Intelligence Specialist\",\n",
        "    \"Data Quality Engineer\", \"Data Engineer (Python)\", \"Quantitative Researcher\", \"Data Analytics Consultant\", \"Data Science (Pharmaceuticals)\",\n",
        "    \"Senior Machine Learning Engineer\", \"Data Automation Engineer\", \"Data Analyst (Manufacturing)\", \"AI Data Analyst\", \"Senior Data Analyst\",\n",
        "    \"Big Data Scientist\", \"Data Analyst (Government)\", \"Data Science Trainer\", \"Data Engineer (Hadoop)\", \"Junior Data Analyst\",\n",
        "    \"Data Science Consultant (Freelance)\", \"Cloud Analytics Specialist\", \"Data Science Instructor\", \"Customer Data Analyst\", \"Data Scientist (Automotive)\",\n",
        "    \"Predictive Modeling Analyst\", \"Data Management Specialist\", \"Senior AI Developer\", \"Research Data Scientist\", \"Lead Machine Learning Engineer\",\n",
        "    \"Data Engineering Consultant\", \"Data Science Analyst\", \"AI Data Scientist\", \"Senior Data Visualization Analyst\", \"Business Intelligence Engineer\",\n",
        "    \"Data Engineer (SQL)\", \"Data Analytics Manager\", \"Data Research Analyst\", \"Analytics Solutions Architect\", \"Data Scientist (Media)\",\n",
        "    \"Data Architect (AWS)\", \"Data Engineer (Java)\", \"AI Solutions Developer\", \"Data Scientist (Finance)\", \"Machine Learning Engineer (R)\"\n",
        "]\n"
      ]
    },
    {
      "cell_type": "code",
      "execution_count": 14,
      "metadata": {
        "id": "sxUfjnOT1ZFy"
      },
      "outputs": [],
      "source": [
        "analyst_list = []\n",
        "\n",
        "for job in job_list:\n",
        "  if 'Data Analyst' in job:\n",
        "    analyst_list.append(job)"
      ]
    },
    {
      "cell_type": "code",
      "execution_count": 15,
      "metadata": {
        "colab": {
          "base_uri": "https://localhost:8080/"
        },
        "id": "xFpTvbMI2hsm",
        "outputId": "688322d3-72d1-4541-eade-24a3b174920f"
      },
      "outputs": [
        {
          "data": {
            "text/plain": [
              "12"
            ]
          },
          "execution_count": 15,
          "metadata": {},
          "output_type": "execute_result"
        }
      ],
      "source": [
        "len(analyst_list)"
      ]
    },
    {
      "cell_type": "code",
      "execution_count": 16,
      "metadata": {
        "id": "2zBaIYdI3A8V"
      },
      "outputs": [],
      "source": [
        "analyst_list = [job for job in job_list if 'Data Analyst'in job]"
      ]
    },
    {
      "cell_type": "code",
      "execution_count": 17,
      "metadata": {
        "colab": {
          "base_uri": "https://localhost:8080/"
        },
        "id": "E5IclLE74d2K",
        "outputId": "a4d6e93b-f872-4eb8-9dcc-c335a547a1fb"
      },
      "outputs": [
        {
          "name": "stdout",
          "output_type": "stream",
          "text": [
            "Original job is : 110 jobs\n",
            "New list is: 12 jobs\n"
          ]
        }
      ],
      "source": [
        "print('Original job is :', len(job_list), 'jobs')\n",
        "print('New list is:', len(analyst_list), 'jobs')"
      ]
    },
    {
      "cell_type": "code",
      "execution_count": 18,
      "metadata": {
        "colab": {
          "base_uri": "https://localhost:8080/"
        },
        "id": "NlerwfF85Orw",
        "outputId": "c008cb83-3334-4f3a-8ad1-d09be031d83b"
      },
      "outputs": [
        {
          "data": {
            "text/plain": [
              "['Data Analyst',\n",
              " 'Data Analyst (Marketing)',\n",
              " 'Data Analyst (Financial Services)',\n",
              " 'Data Analyst (E-commerce)',\n",
              " 'Quantitative Data Analyst',\n",
              " 'Business Data Analyst',\n",
              " 'Data Analyst (Manufacturing)',\n",
              " 'AI Data Analyst',\n",
              " 'Senior Data Analyst',\n",
              " 'Data Analyst (Government)',\n",
              " 'Junior Data Analyst',\n",
              " 'Customer Data Analyst']"
            ]
          },
          "execution_count": 18,
          "metadata": {},
          "output_type": "execute_result"
        }
      ],
      "source": [
        "analyst_list"
      ]
    },
    {
      "cell_type": "code",
      "execution_count": 18,
      "metadata": {
        "id": "PyTs1Ip_55NZ"
      },
      "outputs": [],
      "source": []
    }
  ],
  "metadata": {
    "colab": {
      "provenance": [],
      "toc_visible": true
    },
    "kernelspec": {
      "display_name": "project_test",
      "language": "python",
      "name": "python3"
    },
    "language_info": {
      "codemirror_mode": {
        "name": "ipython",
        "version": 3
      },
      "file_extension": ".py",
      "mimetype": "text/x-python",
      "name": "python",
      "nbconvert_exporter": "python",
      "pygments_lexer": "ipython3",
      "version": "3.12.8"
    }
  },
  "nbformat": 4,
  "nbformat_minor": 0
}
